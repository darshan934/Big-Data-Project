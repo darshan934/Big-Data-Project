{
 "cells": [
  {
   "cell_type": "code",
   "execution_count": 1,
   "metadata": {},
   "outputs": [],
   "source": [
    "import pyspark"
   ]
  },
  {
   "cell_type": "code",
   "execution_count": 2,
   "metadata": {},
   "outputs": [
    {
     "name": "stdout",
     "output_type": "stream",
     "text": [
      "3.7.4\n"
     ]
    }
   ],
   "source": [
    "from platform import python_version\n",
    "\n",
    "print(python_version())"
   ]
  },
  {
   "cell_type": "code",
   "execution_count": 3,
   "metadata": {},
   "outputs": [],
   "source": [
    "import pyspark\n",
    "import pyspark.sql.functions as F\n",
    "\n",
    "from pyspark import SparkContext\n",
    "from pyspark.sql import SQLContext\n",
    "from pyspark.sql import Window\n",
    "from pyspark.sql.types import StructType, StructField, IntegerType, FloatType"
   ]
  },
  {
   "cell_type": "code",
   "execution_count": 4,
   "metadata": {},
   "outputs": [],
   "source": [
    "sc = SparkContext()\n",
    "sql = SQLContext(sc)"
   ]
  },
  {
   "cell_type": "code",
   "execution_count": 5,
   "metadata": {},
   "outputs": [],
   "source": [
    "%%time\n",
    "r_data = sql.read.json('/Users/hka/Desktop/project/test100000.json')"
   ]
  },
  {
   "cell_type": "code",
   "execution_count": 6,
   "metadata": {},
   "outputs": [
    {
     "name": "stdout",
     "output_type": "stream",
     "text": [
      "+----------+-------+--------------------+--------------------+\n",
      "|      asin|overall|          reviewerID|        reviewerName|\n",
      "+----------+-------+--------------------+--------------------+\n",
      "|000100039X|    5.0|A10000012B7CGYKOM...|                Adam|\n",
      "|000100039X|    5.0|      A2S166WSCFIFP5|adead_poet@hotmai...|\n",
      "|000100039X|    5.0|      A1BM81XB4QHOA3|Ahoro Blethends \"...|\n",
      "|000100039X|    5.0|      A1MOSTXNIO5MPJ|           Alan Krug|\n",
      "|000100039X|    5.0|      A2XQ5LZHTD4AFT|            Alaturka|\n",
      "|000100039X|    5.0|      A3V1MKC2BVWY48|         Alex Dawson|\n",
      "|000100039X|    5.0|      A12387207U8U24|                Alex|\n",
      "|000100039X|    5.0|      A29TRDMK51GKZR|        Alpine Plume|\n",
      "|000100039X|    5.0|      A3FI0744PG1WYG|Always Reading \"tkm\"|\n",
      "|000100039X|    5.0|      A2LBBQHYLEHM7P|Amazon Customer \"...|\n",
      "+----------+-------+--------------------+--------------------+\n",
      "only showing top 10 rows\n",
      "\n",
      "None\n"
     ]
    }
   ],
   "source": [
    "r_data = r_data.drop('helpful', 'reviewTime', 'summary', 'unixReviewTime', 'reviewText')\n",
    "print(r_data.show(10))"
   ]
  },
  {
   "cell_type": "code",
   "execution_count": 7,
   "metadata": {},
   "outputs": [
    {
     "name": "stdout",
     "output_type": "stream",
     "text": [
      "2641\n"
     ]
    }
   ],
   "source": [
    "print(r_data.select('asin').distinct().count())"
   ]
  },
  {
   "cell_type": "code",
   "execution_count": 8,
   "metadata": {},
   "outputs": [
    {
     "name": "stdout",
     "output_type": "stream",
     "text": [
      "+----------+-------+--------------+------------+\n",
      "|      asin|overall|    reviewerID|reviewerName|\n",
      "+----------+-------+--------------+------------+\n",
      "|0002727463|    5.0| AVXZ5AF18WDHG|        null|\n",
      "|0007133103|    5.0|A3LXCRJOPYGVWT|        null|\n",
      "|0007154615|    5.0| A75W6T9I2S8BA|        null|\n",
      "|0007155417|    5.0| ASQ5357GTL3PV|        null|\n",
      "|0007156634|    2.0| A3QZQ2ZE8JL7Q|        null|\n",
      "|0007170602|    4.0| AP4TSMD212B4C|        null|\n",
      "|0007446977|    4.0|A343C98QJO0JBE|        null|\n",
      "|0007524404|    5.0|  AZTA5A260B8T|        null|\n",
      "|000755947X|    3.0|A3IKLTT9JQACCI|        null|\n",
      "|0025174215|    5.0|A29FPL4ZNJ5RVS|        null|\n",
      "|0025668609|    5.0|A1CPZQ3MLCYJBH|        null|\n",
      "|0028609980|    5.0|A1LFIIB1AQ9ER5|        null|\n",
      "|0028633873|    5.0| APRTK7SCYNOHT|        null|\n",
      "|0028638840|    4.0|A3LS40E7D4TQS6|        null|\n",
      "|0028740637|    5.0|A2G7Y6ETCISQ4G|        null|\n",
      "|0029184657|    4.0| AIYK8D9FTZ790|        null|\n",
      "|006000150X|    5.0| AZRFX7G4WX2RE|        null|\n",
      "|0060002107|    3.0| AOGE8PM6KED3O|        null|\n",
      "|0060008725|    4.0|A35DI28HRSEEP6|        null|\n",
      "|0060012781|    3.0|A2XQMGE2YY88DC|        null|\n",
      "+----------+-------+--------------+------------+\n",
      "only showing top 20 rows\n",
      "\n"
     ]
    }
   ],
   "source": [
    "r_data.filter(r_data.reviewerName.isNull()).show()"
   ]
  },
  {
   "cell_type": "code",
   "execution_count": 9,
   "metadata": {},
   "outputs": [
    {
     "data": {
      "text/plain": [
       "['asin', 'overall', 'reviewerID', 'reviewerName']"
      ]
     },
     "execution_count": 9,
     "metadata": {},
     "output_type": "execute_result"
    }
   ],
   "source": [
    "r_data.columns"
   ]
  },
  {
   "cell_type": "code",
   "execution_count": 10,
   "metadata": {},
   "outputs": [],
   "source": [
    "r_data = r_data.fillna('', subset=['reviewerName'])"
   ]
  },
  {
   "cell_type": "code",
   "execution_count": 11,
   "metadata": {},
   "outputs": [
    {
     "data": {
      "text/plain": [
       "0"
      ]
     },
     "execution_count": 11,
     "metadata": {},
     "output_type": "execute_result"
    }
   ],
   "source": [
    "r_data.filter(r_data.reviewerName.isNull()).count()"
   ]
  },
  {
   "cell_type": "code",
   "execution_count": 12,
   "metadata": {},
   "outputs": [],
   "source": [
    "from pyspark.ml.recommendation import ALS\n",
    "from pyspark.ml.feature import StringIndexer\n",
    "from pyspark.ml import Pipeline"
   ]
  },
  {
   "cell_type": "code",
   "execution_count": 13,
   "metadata": {},
   "outputs": [],
   "source": [
    "indexer = [StringIndexer(inputCol = column, outputCol = column + \"index\") for column in list(set(r_data.columns) - set(['overall','reviewerName']))]\n",
    "pipeline = Pipeline(stages=indexer)\n",
    "transformed = pipeline.fit(r_data).transform(r_data)"
   ]
  },
  {
   "cell_type": "code",
   "execution_count": 14,
   "metadata": {},
   "outputs": [
    {
     "data": {
      "text/plain": [
       "['asin',\n",
       " 'overall',\n",
       " 'reviewerID',\n",
       " 'reviewerName',\n",
       " 'reviewerIDindex',\n",
       " 'asinindex']"
      ]
     },
     "execution_count": 14,
     "metadata": {},
     "output_type": "execute_result"
    }
   ],
   "source": [
    "transformed.columns"
   ]
  },
  {
   "cell_type": "code",
   "execution_count": 18,
   "metadata": {},
   "outputs": [
    {
     "name": "stdout",
     "output_type": "stream",
     "text": [
      "CPU times: user 28.7 ms, sys: 24.5 ms, total: 53.1 ms\n",
      "Wall time: 33.4 s\n"
     ]
    }
   ],
   "source": [
    "%%time\n",
    "als = ALS(maxIter=15, regParam=0.05, userCol = \"reviewerIDindex\", itemCol = \"asinindex\", ratingCol = \"overall\", coldStartStrategy=\"drop\")\n",
    "als_model = als.fit(transformed)"
   ]
  },
  {
   "cell_type": "code",
   "execution_count": 30,
   "metadata": {},
   "outputs": [
    {
     "name": "stdout",
     "output_type": "stream",
     "text": [
      "+---------------+--------------------+\n",
      "|reviewerIDindex|     recommendations|\n",
      "+---------------+--------------------+\n",
      "|            148|[[1218, 6.933681]...|\n",
      "|            463|[[1401, 9.847683]...|\n",
      "|            471|[[1570, 8.539649]...|\n",
      "|            496|[[704, 8.5722], [...|\n",
      "|            833|[[1570, 10.254099...|\n",
      "|           1088|[[1968, 5.378343]...|\n",
      "|           1238|[[1796, 6.9148154...|\n",
      "|           1342|[[1570, 9.958483]...|\n",
      "|           1580|[[2000, 7.0686593...|\n",
      "|           1591|[[713, 8.119806],...|\n",
      "+---------------+--------------------+\n",
      "only showing top 10 rows\n",
      "\n",
      "None\n",
      "<class 'NoneType'>\n",
      "CPU times: user 3.99 ms, sys: 3.77 ms, total: 7.75 ms\n",
      "Wall time: 24.5 s\n"
     ]
    }
   ],
   "source": [
    "%%time\n",
    "recommendations = als_model.recommendForAllUsers(5).show(10)\n",
    "print(recommendations)\n",
    "print(type(recommendations))"
   ]
  },
  {
   "cell_type": "code",
   "execution_count": 28,
   "metadata": {},
   "outputs": [
    {
     "name": "stdout",
     "output_type": "stream",
     "text": [
      "None\n"
     ]
    }
   ],
   "source": [
    "print(recommendations)"
   ]
  },
  {
   "cell_type": "code",
   "execution_count": null,
   "metadata": {},
   "outputs": [],
   "source": []
  }
 ],
 "metadata": {
  "kernelspec": {
   "display_name": "Python 3",
   "language": "python",
   "name": "python3"
  },
  "language_info": {
   "codemirror_mode": {
    "name": "ipython",
    "version": 3
   },
   "file_extension": ".py",
   "mimetype": "text/x-python",
   "name": "python",
   "nbconvert_exporter": "python",
   "pygments_lexer": "ipython3",
   "version": "3.7.4"
  }
 },
 "nbformat": 4,
 "nbformat_minor": 4
}
